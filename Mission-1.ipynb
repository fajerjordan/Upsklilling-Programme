{
 "cells": [
  {
   "cell_type": "markdown",
   "metadata": {},
   "source": [
    "1. Write a Python program to parse a string to Float or Integer. and print the type of them."
   ]
  },
  {
   "cell_type": "code",
   "execution_count": 1,
   "metadata": {},
   "outputs": [
    {
     "name": "stdout",
     "output_type": "stream",
     "text": [
      "123.456\n",
      "123\n"
     ]
    }
   ],
   "source": [
    "# Python program to parse a string to Float or Integer. and print the type of them.\n",
    "\n",
    "y= \"123.456\"\n",
    "print(float(y))\n",
    "print(int(float(y)))"
   ]
  },
  {
   "cell_type": "markdown",
   "metadata": {},
   "source": [
    "2. Write a Python program to print two values without newline or space."
   ]
  },
  {
   "cell_type": "code",
   "execution_count": 2,
   "metadata": {},
   "outputs": [
    {
     "name": "stdout",
     "output_type": "stream",
     "text": [
      "October2019\n"
     ]
    }
   ],
   "source": [
    "# Python program to print two values without newline or space.\n",
    "print(\"October\"+\"2019\")"
   ]
  },
  {
   "cell_type": "markdown",
   "metadata": {},
   "source": [
    "3. Write a program that takes an input from the user and checks if it’s divisible by 3 or not."
   ]
  },
  {
   "cell_type": "code",
   "execution_count": null,
   "metadata": {},
   "outputs": [],
   "source": [
    "# program that takes an input from the user and checks if it’s divisible by 3 or not.\n",
    "\n",
    "x = eval((input(\"Enter the nummer:\")))\n",
    "print (x % 3 == 0)"
   ]
  },
  {
   "cell_type": "markdown",
   "metadata": {},
   "source": [
    "4. Write a program that reads three integers (a, b, and c), computes the following formulas (x1 = (((-b+c4)/2a)-(3((a+b2))/c)), x2 =(((a+b3)2)/(c-a**2))) and stores the results in the variables x1, x2 and prints the results of the program."
   ]
  },
  {
   "cell_type": "code",
   "execution_count": null,
   "metadata": {},
   "outputs": [],
   "source": [
    "# program that reads three integers (a, b, and c)\n",
    "# then computes 2 formulas and stores the results in the variables x1, x2 and prints the results of the program\n",
    "a = 1\n",
    "b = 6\n",
    "c = 2\n",
    "x1 = (((-b+c**4)/2*a)-(3*((a+b**2))/c))\n",
    "print ('x1=', x1)\n",
    "x2 =(((a+b**3)**2)/(c-a**2)) \n",
    "print('x2=', x2)"
   ]
  },
  {
   "cell_type": "markdown",
   "metadata": {},
   "source": [
    "5. Write a program that reads two numbers a and b. Print the maximum value of the two numbers."
   ]
  },
  {
   "cell_type": "code",
   "execution_count": null,
   "metadata": {},
   "outputs": [],
   "source": [
    "# program that reads two numbers a and b. Print the maximum value of the two numbers.\n",
    "a = 65\n",
    "b = 46\n",
    "max(a,b)"
   ]
  },
  {
   "cell_type": "markdown",
   "metadata": {},
   "source": [
    "6. Write a program that reads three input values. Output the maximum value of the three."
   ]
  },
  {
   "cell_type": "code",
   "execution_count": null,
   "metadata": {},
   "outputs": [],
   "source": [
    "# program that reads three input values. Output the maximum value of the three.\n",
    "a= eval(input(\"Enter value 1:\"))\n",
    "b= eval(input(\"Enter value 2:\"))\n",
    "c= eval(input(\"Enter value 3:\"))\n",
    "max(a,b,c)"
   ]
  },
  {
   "cell_type": "markdown",
   "metadata": {},
   "source": [
    "7. Write a program that reads two values a and b. If b is 0, output ”b is 0”. Otherwise output the result of the division of a by b (a/b)."
   ]
  },
  {
   "cell_type": "code",
   "execution_count": null,
   "metadata": {},
   "outputs": [],
   "source": [
    "# program that reads two values a and b. \n",
    "# If b is 0, output ”b is 0”, Otherwise output the result of the division of a by b (a/b).\n",
    "a= 99\n",
    "b= 3\n",
    "if b is 0 : print(\"b is 0\")\n",
    "else: print(a/b)"
   ]
  },
  {
   "cell_type": "markdown",
   "metadata": {},
   "source": [
    "8. Write a program to convert days into years, months and days. SampleInput: 400 SampleOutput: 1 Year 1 Month and 5 Days\n"
   ]
  },
  {
   "cell_type": "code",
   "execution_count": null,
   "metadata": {},
   "outputs": [],
   "source": [
    "# program to convert days into years, weeks and days.  \n",
    "def find(number_of_days): \n",
    " year = int(number_of_days / 365)\n",
    " month = int((number_of_days % 365) / 35 ) \n",
    " days = (number_of_days % 365) % 7 \n",
    " print(\"Number_of_days is\", number_of_days, \"=\", year, \"Year &\", month, \"Month &\", days,\"Days\") \n",
    "number_of_days = 400\n",
    "find(number_of_days)"
   ]
  },
  {
   "cell_type": "markdown",
   "metadata": {},
   "source": [
    "9. Write a program to read temperature in Celsius and convert it into Fahrenheit."
   ]
  },
  {
   "cell_type": "code",
   "execution_count": null,
   "metadata": {},
   "outputs": [],
   "source": [
    "# program to read temperature in Celsius and convert it into Fahrenheit.\n",
    "Cْ  = float(input(\"Enter temperature in Cْ :\"))\n",
    "Fْ = (Cْ*1.80)+32 \n",
    "print ( Cْ ,\"Cْ \", \"equal\", Fْ  , \"Fْ\")"
   ]
  },
  {
   "cell_type": "markdown",
   "metadata": {},
   "source": [
    "10. Write a program that reads two float number and stores their values in variable x and y. the program then computes the value (x**2 − y**2)/(x − y) , stores the result in stores the result in a float named z and print the value of z. if the computation division by zero, the program must avoid that by printing an error message and exiting before computing the formula."
   ]
  },
  {
   "cell_type": "code",
   "execution_count": null,
   "metadata": {},
   "outputs": [],
   "source": [
    "# program that reads two float number \n",
    "# and computes (x**2 − y**2)/(x − y) and store the result in float named z \n",
    "# : (division by zero) must avoid by printing an error message and exiting before computing\n",
    "\n",
    "x= float(input(\"Enter First Number:\"))\n",
    "y= float(input(\"Enter Second Number:\"))\n",
    "if x-y == 0 :\n",
    " print (\"ZeroDivision Error... try anther numbers\")\n",
    "else:\n",
    " z= float((x**2-y**2)/(x-y))\n",
    " print(\"z=\", z)"
   ]
  },
  {
   "cell_type": "markdown",
   "metadata": {},
   "source": [
    "11. As you know Python has no switch statements so, Write a complete Python application that asks the user to enter an integer Q-Range (”deviation IQ”) and output the IQ Classification according to the following table: Q Range (”deviation IQ”) -> IQ Classification 130 and above -> Very Superior 120 - 129 -> Superior 110 - 119 -> High Average 90 - 109 -> Average 80 - 89 -> Low Average 70 - 79 -> Borderline 69 and below -> Extremely Low"
   ]
  },
  {
   "cell_type": "code",
   "execution_count": null,
   "metadata": {},
   "outputs": [],
   "source": [
    "# Python application that asks the user to enter an integer Q-Range and output the IQ Classification \n",
    "iq = int(input(\"Enter your IQ \"))\n",
    "if iq >= 130 :\n",
    "    print (\"Very Superior\")\n",
    "elif iq >= 120 and iq <= 129 :\n",
    "    print (\"Superior\")\n",
    "elif iq >= 110 and iq <= 119 :\n",
    "    print (\"High Average\")\n",
    "elif iq >= 90 and iq <= 109 :\n",
    "    print (\"Average\")\n",
    "elif iq >= 80 and iq <= 89 : \n",
    "    print (\" low Average\")\n",
    "elif iq >= 70 and iq <= 79 : \n",
    "    print (\"Borderline\")\n",
    "else : \n",
    "    print (\"Borderline\")     "
   ]
  },
  {
   "cell_type": "markdown",
   "metadata": {},
   "source": [
    "12. Write a program that classifies a student marks as follows:[90 − 100]:A, [80 − 90]:B [70 − 80]:C, [60 − 70]:D, [50 − 60]:E, [0 − 50]:F"
   ]
  },
  {
   "cell_type": "code",
   "execution_count": null,
   "metadata": {},
   "outputs": [],
   "source": [
    "# program that classifies a student marks\n",
    "mark = int(input(\"Enter Mark\"))\n",
    "if mark >= 90 and mark <= 100 :\n",
    " print (\"A\")\n",
    "elif mark >= 80 and mark <= 90 :\n",
    " print (\"B\")   \n",
    "elif mark >= 70 and mark <= 80 :\n",
    "     print (\"C\") \n",
    "elif mark >= 60 and mark <= 70 :\n",
    "     print (\"D\") \n",
    "elif mark >= 50 and mark <= 60 :\n",
    "     print (\"E\") \n",
    "elif mark >= 0 and mark <= 50  :\n",
    "     print (\"F\") \n",
    "else :\n",
    " print (\"Mark must be between 0 and 100\") "
   ]
  },
  {
   "cell_type": "markdown",
   "metadata": {},
   "source": [
    "13. Write a program that tests whether the formula a2 + b2 = c2, is true for three integers entered as input."
   ]
  },
  {
   "cell_type": "code",
   "execution_count": null,
   "metadata": {},
   "outputs": [],
   "source": [
    "# program that tests whether the formula a2 + b2 = c2, is true of false  \n",
    "a = int(input(\"Enter 1st num\"))\n",
    "b = int(input(\"Enter 2nd num\"))\n",
    "c = int(input(\"Enter 3rd num\"))\n",
    "(a**2 + b**2) == c**2"
   ]
  },
  {
   "cell_type": "markdown",
   "metadata": {},
   "source": [
    "14. Write a Python program to check whether an alphabet is vowel or consonant."
   ]
  },
  {
   "cell_type": "code",
   "execution_count": null,
   "metadata": {},
   "outputs": [],
   "source": [
    "# program to check whether an alphabet is vowel or consonant.\n",
    "c = input(\"enter any alphabet character\")\n",
    "v= (\"A,a,E,e,U,u,O,o,I,i\") \n",
    "if (c in v) :\n",
    "    print (\"alphabet is vowel\")\n",
    "else: \n",
    "    print(\"alphabet is consonant\")"
   ]
  },
  {
   "cell_type": "markdown",
   "metadata": {},
   "source": [
    "15. Write a Python program to check whether a number is even or odd."
   ]
  },
  {
   "cell_type": "code",
   "execution_count": null,
   "metadata": {},
   "outputs": [],
   "source": [
    "# program to check a number is even or odd.\n",
    "num = int(input(\"Enter number\"))\n",
    "if (num%2 == 0) :\n",
    "    print (num, \"is even number\")\n",
    "else :\n",
    "    print (num, \"is odd number\")"
   ]
  },
  {
   "cell_type": "markdown",
   "metadata": {},
   "source": [
    "16. Write a Python program to display the current date and time. Sample Output : Current date and time : 2019-07-05 21:25:48 "
   ]
  },
  {
   "cell_type": "code",
   "execution_count": null,
   "metadata": {},
   "outputs": [],
   "source": [
    "# program to display the current date and time like this sample 2019-07-05 21:25:48\n",
    "import datetime\n",
    "now = datetime.datetime.now()\n",
    "print (now.strftime(\"%Y-%m-%d %H:%M:%S\"))\n"
   ]
  },
  {
   "cell_type": "markdown",
   "metadata": {},
   "source": [
    "17. Write a Python program which accepts the radius of a circle from the user and compute the area; Sample Output : r = 1.1, Area = 3.8013271108436504"
   ]
  },
  {
   "cell_type": "code",
   "execution_count": null,
   "metadata": {},
   "outputs": [],
   "source": [
    "# program compute the circle area. "
   ]
  },
  {
   "cell_type": "code",
   "execution_count": null,
   "metadata": {},
   "outputs": [],
   "source": [
    "pi = 22/7\n",
    "rad = float(input(\"enter the radios of circle:\"))\n",
    "area = (rad**2 * pi)\n",
    "print (\"Circle area =\", area)"
   ]
  },
  {
   "cell_type": "markdown",
   "metadata": {},
   "source": [
    "18.  a Python program which accepts the user’s first and last name and print them in reverse order."
   ]
  },
  {
   "cell_type": "code",
   "execution_count": null,
   "metadata": {},
   "outputs": [],
   "source": [
    "# program to reverse user's name.\n",
    "fname = input(\"Enter your 1st name: \")\n",
    "lname = input(\"Enter your last name: \")\n",
    "print(list(reversed(lname)) , list(reversed(fname)))\n",
    "    \n"
   ]
  },
  {
   "cell_type": "markdown",
   "metadata": {},
   "source": [
    "19. Write a Python program to read a three numbers from the user and display them as follow. Sample Input = (11, 12, 2019), Sample Output : The examination will start from : 11 / 12 / 2019"
   ]
  },
  {
   "cell_type": "code",
   "execution_count": null,
   "metadata": {},
   "outputs": [],
   "source": [
    "# a Python program to read a three numbers from the user and display them as follow: \n",
    "# The examination will start from : 11 / 12 / 2019\n",
    "n1 = input(\"Enter 1st number\")\n",
    "n2 = input(\"Enter 2nd number\")\n",
    "n3 = input(\"Enter 3rd number\")\n",
    "print(\"The examination will start from: \" + n1 + \" / \" + n2 + \" / \" + n3 )\n"
   ]
  },
  {
   "cell_type": "markdown",
   "metadata": {},
   "source": [
    "20. Write a Python program that accepts an integer (n) and computes the value of n + nn + nnn. Sample value of n is 5, Expected Result : 155"
   ]
  },
  {
   "cell_type": "code",
   "execution_count": null,
   "metadata": {},
   "outputs": [],
   "source": [
    "n = int(input(\"Enter any number: \"))\n",
    "v = n + (n*n) + (n*n*n)\n",
    "print (\"n + n*n + n*n*n =\" , v)\n",
    "   "
   ]
  },
  {
   "cell_type": "markdown",
   "metadata": {},
   "source": [
    "21. Write a Python program to print the documentation of a Python built-in function(s)."
   ]
  },
  {
   "cell_type": "code",
   "execution_count": null,
   "metadata": {},
   "outputs": [],
   "source": [
    "# program to print the documentation of a Python built-in function(s).\n",
    "help(print)"
   ]
  },
  {
   "cell_type": "markdown",
   "metadata": {},
   "source": [
    "22. Write a Python program to print the following here document; Sample string :\n",
    "”a string that you ”don’t” have to escape\n",
    "This\n",
    "is a ....... multi-line\n",
    "heredoc string ——–> example”"
   ]
  },
  {
   "cell_type": "code",
   "execution_count": null,
   "metadata": {},
   "outputs": [],
   "source": [
    "# Python program to print the following:\n",
    "# ”a string that you ”don’t” have to escape\n",
    "# This\n",
    "# is a ....... multi-line\n",
    "# heredoc string ——–> example”\n",
    "print(\"\"\"”a string that you ”don’t” have to escape\n",
    "This\n",
    "is a ....... multi-line\n",
    "heredoc string ——–> example” \"\"\")"
   ]
  },
  {
   "cell_type": "markdown",
   "metadata": {},
   "source": [
    "23. Write a Python program to calculate number of days between two dates; Sample dates : (2014, 7, 2), (2014, 7, 11) Expected output : 9 days\n"
   ]
  },
  {
   "cell_type": "code",
   "execution_count": null,
   "metadata": {},
   "outputs": [],
   "source": [
    "# Python program to calculate number of days between two dates\n",
    "from datetime import datetime\n",
    "date_format = \"%Y/%m/%d\"\n",
    "first_date = \"2014/7/2\"\n",
    "last_date = \"2014/7/11\"\n",
    "f = datetime.strptime (first_date, date_format)\n",
    "l = datetime.strptime(last_date, date_format)\n",
    "num = l - f #num of days between two dates\n",
    "print (\"Num of days = \", num.days)"
   ]
  },
  {
   "cell_type": "markdown",
   "metadata": {},
   "source": [
    "24. Write a Python program to get the volume of a sphere with a given radius."
   ]
  },
  {
   "cell_type": "code",
   "execution_count": null,
   "metadata": {},
   "outputs": [],
   "source": [
    "# program to get the volume of a sphere \n",
    "pi = 22/7\n",
    "red= float(input(\"enter the radius :\"))\n",
    "volume_sphere = 4/3*(red)**3*pi\n",
    "print (\"volume of a sphere =\", volume_sphere )\n"
   ]
  },
  {
   "cell_type": "markdown",
   "metadata": {},
   "source": [
    "25. Write a Python program to get the difference between a given number and 17, if the number is greater than 17 return double the absolute difference."
   ]
  },
  {
   "cell_type": "code",
   "execution_count": null,
   "metadata": {},
   "outputs": [],
   "source": [
    "# Python program to get the difference between a given number and 17, \n",
    "# & if the number is greater than 17 return double the absolute difference.\n",
    "\n",
    "a = int(input(\"Enter any number: \"))\n",
    "b = a - 17\n",
    "if a > 17 : \n",
    " print (\"Double the absolute difference a given number & 17 is : \", abs(b**2))\n",
    "else:\n",
    "    print (\"Number is smaller than 17\")\n",
    "\n",
    "\n",
    "            "
   ]
  },
  {
   "cell_type": "markdown",
   "metadata": {},
   "source": [
    "26. Write a Python program to test whether a number is within (less than) 100 or 1000 or 2000 and print the value divided by 5 and multiplied by 25."
   ]
  },
  {
   "cell_type": "code",
   "execution_count": null,
   "metadata": {},
   "outputs": [],
   "source": [
    "#Python program to test whether a number is within (less than) 100 or 1000 or 2000 \n",
    "# and print the value divided by 5 and multiplied by 25.\n",
    "num= int(input(\"Enter any number: \"))\n",
    "if num < 100 or num < 100 or num <= 1000 :\n",
    "    div = num / 5 #value divided by 5 \n",
    "    mul = num * 25 #vale multiplied by 25\n",
    "    print (\"Num:\", num , \" Num_divided_by_5 is\" ,div , \" Num_multiplied_by_25 is\", mul )\n",
    "else : \n",
    "    print (\"Number more than 1000, try another one\")"
   ]
  },
  {
   "cell_type": "markdown",
   "metadata": {},
   "source": [
    "27. Write a Python program to calculate the sum of three given numbers, if the values are equal then return three times of their sum."
   ]
  },
  {
   "cell_type": "code",
   "execution_count": null,
   "metadata": {},
   "outputs": [],
   "source": [
    "# Python program to calculate the sum of three given numbers \n",
    "# if the values are equal then return three times of their sum.\n",
    "n1 = int(input(\"enter 1st num:\"))\n",
    "n2= int(input(\"enter 2nd num:\"))\n",
    "n3 = int(input(\"enter 3rd num:\"))\n",
    "sum = n1 + n2 + n3 \n",
    "if (n1 == n2 == n3) :\n",
    "    sum = sum * 3 \n",
    "print (\"Sum=\", sum )"
   ]
  },
  {
   "cell_type": "markdown",
   "metadata": {},
   "source": [
    "28. Write a Python program to swap the values of two given numbers."
   ]
  },
  {
   "cell_type": "code",
   "execution_count": null,
   "metadata": {},
   "outputs": [],
   "source": [
    "# Python program to swap the values of two given numbers.\n",
    "a = int(input(\"enter 1st num:\"))\n",
    "b = int(input(\"enter 2nd num:\"))\n",
    "swab = a\n",
    "a = b \n",
    "b = swab \n",
    "print (\"1st num:\", a , \" 2nd num:\",  b )"
   ]
  },
  {
   "cell_type": "markdown",
   "metadata": {},
   "source": [
    "29. Write a Python program to check whether a specified value is contained in a group of values or if a character is given in a string; Test Data : 3 -> [1, 5, 8, 3] : True, -1 -> [1, 5, 8, 3] : False"
   ]
  },
  {
   "cell_type": "code",
   "execution_count": null,
   "metadata": {},
   "outputs": [],
   "source": [
    "# program to check whether a specified value is contained in a group of values or if a character is given in a string\n",
    "v = input(\"enter any number or character: \")\n",
    "g = input(\"enter values or string: \")\n",
    "if v in g :\n",
    "    print (\"number or character in group:\", \"true\") \n",
    "else :\n",
    "    print (\"number/character contained in group:\",\"false\") "
   ]
  },
  {
   "cell_type": "markdown",
   "metadata": {},
   "source": [
    "30. Write a Python program that will accept the base and height of a triangle and compute the area."
   ]
  },
  {
   "cell_type": "code",
   "execution_count": null,
   "metadata": {},
   "outputs": [],
   "source": [
    "# 30. program to compute the triangle area.\n",
    "base = float(input(\"enter the base of triangle: \"))\n",
    "height = float(input(\"enter the base of triangle: \"))\n",
    "area = 0.5*base*height \n",
    "print (\"Triangle area =\" , area)\n"
   ]
  },
  {
   "cell_type": "markdown",
   "metadata": {},
   "source": [
    "31. Write a Python program to sum of three given integers. However, if two values are equal sum will be zero."
   ]
  },
  {
   "cell_type": "code",
   "execution_count": null,
   "metadata": {},
   "outputs": [],
   "source": [
    "# Python program to sum of three given integers and if two values are equal sum will be zero\n",
    "n1 = int(input(\"enter 1st num:\"))\n",
    "n2= int(input(\"enter 2nd num:\"))\n",
    "n3 = int(input(\"enter 3rd num:\"))\n",
    "sum = n1 + n2 + n3 \n",
    "if (n1 == n2 or n2 == n3 or n3 == n1 ) :\n",
    "    sum = 0  \n",
    "print (\"Sum=\", sum )"
   ]
  },
  {
   "cell_type": "markdown",
   "metadata": {},
   "source": [
    "32. Write a Python program to sum of two given integers. However, if the sum is between 15 to 20 it will return 20. 30 to 40 it will return 50. 150 to 167 it will return 210."
   ]
  },
  {
   "cell_type": "code",
   "execution_count": null,
   "metadata": {},
   "outputs": [],
   "source": [
    "# Python program to sum of two given integers and return 3 values depending on the sum.\n",
    "n1= int(input(\"enter 1st num:\"))\n",
    "n2= int(input(\"enter 2nd num:\"))\n",
    "sum = n1 + n2\n",
    "if 15 <= sum <= 20 :\n",
    "    sum = 20\n",
    "elif 30 <= sum <= 40 :\n",
    "    sum = 50\n",
    "elif 150 <= sum <= 167:\n",
    "    sum = 210\n",
    "print (\"Sum :\", sum )\n"
   ]
  },
  {
   "cell_type": "markdown",
   "metadata": {},
   "source": [
    "33. Write a Python program that will return true if the two given integer values are equal or their\n",
    "sum or difference is 5."
   ]
  },
  {
   "cell_type": "code",
   "execution_count": null,
   "metadata": {},
   "outputs": [],
   "source": [
    "# program that will return true if the two given integer values are equal or their sum or difference is 5\n",
    "n1= int(input(\"enter 1st num:\"))\n",
    "n2= int(input(\"enter 2nd num:\"))\n",
    "if (n1==n2) or (n1+n2 == 5) or (n1-n2 == 5) or (n2-n1 == 5) :\n",
    "    print (\"equal or their sum or difference is 5 :\", \"true\")\n",
    "else : \n",
    "    print (\"equal or their sum or difference is 5 :\", \"false\")\n"
   ]
  },
  {
   "cell_type": "markdown",
   "metadata": {},
   "source": [
    "34. Write a Python program to solve (x + y) ∗ (x + y), x and y are an inputs; Expected Output : ((4 + 3)2 ) = 49"
   ]
  },
  {
   "cell_type": "code",
   "execution_count": null,
   "metadata": {},
   "outputs": [],
   "source": [
    "# Python program to solve (x + y) ∗ (x + y)\n",
    "x= int(input(\"enter 1st num:\"))\n",
    "y= int(input(\"enter 2nd num:\"))\n",
    "s = (x+y)*(x+y)\n",
    "print (\"solve =\" , s)"
   ]
  },
  {
   "cell_type": "markdown",
   "metadata": {},
   "source": [
    "35. Write a Python program to compute the future value of a specified principal amount, rate of interest, and a number of years. Test Data : amt = 10000, int = 3.5, years = 7, Expected Output : 12722.79"
   ]
  },
  {
   "cell_type": "code",
   "execution_count": null,
   "metadata": {},
   "outputs": [],
   "source": [
    "# Python program to compute the future value of a specified principal amount, rate of interest, and a number of years.\n",
    "amt = 10000\n",
    "int = 3.5\n",
    "years = 7\n",
    "future_value = amt*((1+(0.01*int)) ** years)\n",
    "print(\"Future value :\", round(future_value,2))"
   ]
  },
  {
   "cell_type": "markdown",
   "metadata": {},
   "source": [
    "36. Write a Python program to compute the distance between the points (x1, y1) and (x2, y2). the distance between two points calculated using Phythagoros theorem)                                                                   "
   ]
  },
  {
   "cell_type": "code",
   "execution_count": null,
   "metadata": {},
   "outputs": [],
   "source": [
    "# Python program to compute the distance between the points (x1, y1) and (x2, y2) using Phythagoros theorem.\n",
    "\n",
    "import math \n",
    "def distance(x1 , y1 , x2 , y2): \n",
    "   return math.sqrt(math.pow(x2 - x1, 2) + math.pow(y2 - y1, 2) * 1.0) \n",
    "print(\"Distance \", \"%.6f\"%distance(3, 4, 4, 3)) "
   ]
  },
  {
   "cell_type": "markdown",
   "metadata": {},
   "source": [
    "37. Write a program to get execution time for a Python command. (Use the Jupyter’s magic commands)"
   ]
  },
  {
   "cell_type": "code",
   "execution_count": null,
   "metadata": {},
   "outputs": [],
   "source": [
    "# program to get execution time for a Python command.\n",
    "\n",
    "%time\n",
    "import time\n",
    "for x in range(3):\n",
    " print (\"Yazeed\")"
   ]
  },
  {
   "cell_type": "markdown",
   "metadata": {},
   "source": [
    "38. Write a Python program to convert height (in feet and inches) to centimeters"
   ]
  },
  {
   "cell_type": "code",
   "execution_count": null,
   "metadata": {},
   "outputs": [],
   "source": [
    "# Python program to convert height (in feet and inches) to centimeters\n",
    "height = float(input(\"Enter the height : \"))\n",
    "h_feet_to_c = height * 30.48 # convert height in feet to centimeters\n",
    "h_inch_to_c = height * 2.54 # convert height in inches to centimeters\n",
    "print (\"h_feet_to_c =\", h_feet_to_c , \" \",  \"h_inch_to_c =\", h_inch_to_c )"
   ]
  },
  {
   "cell_type": "markdown",
   "metadata": {},
   "source": [
    "39. Write a Python program to calculate the hypotenuse of a right-angled triangle."
   ]
  },
  {
   "cell_type": "code",
   "execution_count": null,
   "metadata": {},
   "outputs": [],
   "source": [
    "# Python program to calculate the hypotenuse of a right-angled triangle.\n",
    "import math\n",
    "adj = float(input(\"Enter adjacent side : \")) # adj : adjacent in triangle\n",
    "opp = float(input(\"enter opposite side : \" )) # opp : opposite in triangle\n",
    "hypo_pow_2 = adj**2 + opp**2 # hypo : hypotenuse in triangle\n",
    "print (\"Hypotenuse = \", math.sqrt(hypo_pow_2)) "
   ]
  },
  {
   "cell_type": "markdown",
   "metadata": {},
   "source": [
    "40. . Write a Python program to convert the distance (in feet) to inches, yards, and miles."
   ]
  },
  {
   "cell_type": "code",
   "execution_count": null,
   "metadata": {},
   "outputs": [],
   "source": [
    "# Python program to convert the distance (in feet) to inches, yards, and miles.\n",
    "dis = float(input(\"Enter the distance : \"))\n",
    "feet_to_inch = dis * 12 \n",
    "feet_to_yard = dis * 1/3\n",
    "feet_to_mile = dis * 1/5280\n",
    "print(\"dis_feet_to_inch : \", feet_to_inch)\n",
    "print(\"dis_feet_to_yard : \", feet_to_yard )\n",
    "print (\"dis_feet_to_mile : \", feet_to_mile)"
   ]
  },
  {
   "cell_type": "markdown",
   "metadata": {},
   "source": [
    "41. Write a Python program to convert the distance (in Minuets) to days, months, and years."
   ]
  },
  {
   "cell_type": "code",
   "execution_count": null,
   "metadata": {},
   "outputs": [],
   "source": [
    "# program to convert the distance (in Minuets) to days, months, and years.\n",
    "dis = int(input(\"Enter the distance (Minuets) : \"))\n",
    "day = dis / (24 * 60) \n",
    "month = day / 30\n",
    "year = month / 12\n",
    "print (dis , \"Minuets = \", day , \"day\" )\n",
    "print (dis , \"Minuets = \", month , \"month\")\n",
    "print (dis , \"Minuets = \", year , \"year\")"
   ]
  },
  {
   "cell_type": "markdown",
   "metadata": {},
   "source": [
    "42. Write a Python program to convert the distance (in Years) months, and days."
   ]
  },
  {
   "cell_type": "code",
   "execution_count": null,
   "metadata": {},
   "outputs": [],
   "source": [
    "# Python program to convert the distance (in Years) months, and days.\n",
    "year = int(input(\"Enter the distance (years) : \"))\n",
    "month = year * 12 \n",
    "day = year * 365 \n",
    "print(year , \"year = \", month , \"month\")\n",
    "print(year , \"year = \", day , \"day\")"
   ]
  },
  {
   "cell_type": "markdown",
   "metadata": {},
   "source": [
    "43. Write a Python program to calculate body mass index for a give height and Weight."
   ]
  },
  {
   "cell_type": "code",
   "execution_count": null,
   "metadata": {},
   "outputs": [],
   "source": [
    "# program to calculate body mass index for a give height and Weight.\n",
    "h = int(input(\"enter your height (CM) :\"))\n",
    "w = float(input(\"enter your weight (G) :\"))\n",
    "bmi = w / (h**2/100)\n",
    "print (\"If your\",\"height:\", h,\"CM\" , \"&\", \"weight:\", w,\"G\", \" , your BMI=\", bmi)               "
   ]
  },
  {
   "cell_type": "markdown",
   "metadata": {},
   "source": [
    "44. Write a Python program to sort five given integers and print them"
   ]
  },
  {
   "cell_type": "code",
   "execution_count": null,
   "metadata": {},
   "outputs": [],
   "source": [
    "# Python program to sort five given integers and print them\n",
    "y1 = int(input(\"Enter 1st num :\" ))\n",
    "y2 = int(input(\"Enter 2nf num :\" ))\n",
    "y3 = int(input(\"Enter 3rd num :\" ))\n",
    "y4 = int(input(\"Enter 4th num :\" ))\n",
    "y5 = int(input(\"Enter 5th num :\" ))\n",
    "print (sorted([y1,y2,y3,y4,y5]))"
   ]
  },
  {
   "cell_type": "markdown",
   "metadata": {},
   "source": [
    "45. Write a Python program to get the details (documentation) of the math module."
   ]
  },
  {
   "cell_type": "code",
   "execution_count": null,
   "metadata": {},
   "outputs": [],
   "source": [
    "# program to get the details of the math module.\n",
    "help (\"math\")"
   ]
  },
  {
   "cell_type": "markdown",
   "metadata": {},
   "source": [
    "46. Write a Python program to get the ASCII code of a given character"
   ]
  },
  {
   "cell_type": "code",
   "execution_count": null,
   "metadata": {},
   "outputs": [],
   "source": [
    "# Python program to get the ASCII code of a given character\n",
    "y = int(input(\"Enter number :\" ))\n",
    "asc = ord('y')\n",
    "print(\"Number\", y, \"in ASCII =\", asc )"
   ]
  },
  {
   "cell_type": "markdown",
   "metadata": {},
   "source": [
    "47. Write a Python program to find the available built-in modules. (built-in modules doesn’t require to be PIP’ed install)"
   ]
  },
  {
   "cell_type": "code",
   "execution_count": null,
   "metadata": {},
   "outputs": [],
   "source": [
    "# Python program to find the available built-in modules. \n",
    "import sys\n",
    "import textwrap\n",
    "module_name = ', '.join(sorted(sys.builtin_module_names))\n",
    "print(textwrap.fill(module_name, width=70))"
   ]
  },
  {
   "cell_type": "markdown",
   "metadata": {},
   "source": [
    "48. Write a Python program to get the size of an object in bytes."
   ]
  },
  {
   "cell_type": "code",
   "execution_count": null,
   "metadata": {},
   "outputs": [],
   "source": [
    "# Python program to get the size of an object in bytes.\n",
    "import sys\n",
    "str = \"This is Mission 1\"\n",
    "print(sys.getsizeof(str))"
   ]
  },
  {
   "cell_type": "markdown",
   "metadata": {},
   "source": [
    "49. Write a Python program to concatenate 4 given strings."
   ]
  },
  {
   "cell_type": "code",
   "execution_count": null,
   "metadata": {},
   "outputs": [],
   "source": [
    "# Python program to concatenate 4 given strings.\n",
    "str1 = \"This\"\n",
    "str2 = \"is\"\n",
    "str3 = \"Mission\"\n",
    "str4 = \"-1\"\n",
    "print(str1 + str2 + str3 + str4)"
   ]
  },
  {
   "cell_type": "markdown",
   "metadata": {},
   "source": [
    "50. Write a Python program to check if a string is numeric (all it’s values are numeric)."
   ]
  },
  {
   "cell_type": "code",
   "execution_count": null,
   "metadata": {},
   "outputs": [],
   "source": [
    "# Python program to check if a string is numeric (all it’s values are numeric).\n",
    "str = (\"23122019y\")\n",
    "str.isnumeric()"
   ]
  },
  {
   "cell_type": "markdown",
   "metadata": {},
   "source": [
    "51. Write a Python program to clear the screen or terminal."
   ]
  },
  {
   "cell_type": "code",
   "execution_count": null,
   "metadata": {},
   "outputs": [],
   "source": [
    "# Python program to clear the screen or terminal.\n",
    "\n",
    "import os\n",
    "print(\"This text for test /n\" *50)\n",
    "os.system(\"cls\")"
   ]
  },
  {
   "cell_type": "markdown",
   "metadata": {},
   "source": [
    "52. Write a Python program to check if a number is positive, negative or zero."
   ]
  },
  {
   "cell_type": "code",
   "execution_count": null,
   "metadata": {},
   "outputs": [],
   "source": [
    "# Python program to check if a number is positive, negative or zero.\n",
    "num = -23\n",
    "if num > 0 :\n",
    "    print (num,\" is\",\"Positive\")\n",
    "elif num == 0 :\n",
    "    print (num,\"is\",\"Zero\")\n",
    "else:\n",
    "    print (num,\"is\",\"Negative\")"
   ]
  },
  {
   "cell_type": "markdown",
   "metadata": {},
   "source": [
    "53. Write a Python program to input a number, if it is not a number generate an error message."
   ]
  },
  {
   "cell_type": "code",
   "execution_count": 2,
   "metadata": {},
   "outputs": [
    {
     "name": "stdout",
     "output_type": "stream",
     "text": [
      "enter a number: ytazeed \n",
      "error msg: value is not a number\n",
      "\n",
      "enter a number: 1910\n"
     ]
    }
   ],
   "source": [
    "# Python program to input a number, if it is not a number generate an error message.\n",
    "while True:\n",
    "    try:\n",
    "        num = int(input(\"enter a number: \"))\n",
    "        break\n",
    "    except ValueError:\n",
    "        print(\"error msg: value is not a number\")\n",
    "        print()"
   ]
  },
  {
   "cell_type": "markdown",
   "metadata": {},
   "source": [
    "54. Write a Python program to prove that two string variables of same value point same memory location."
   ]
  },
  {
   "cell_type": "code",
   "execution_count": 12,
   "metadata": {},
   "outputs": [
    {
     "data": {
      "text/plain": [
       "True"
      ]
     },
     "execution_count": 12,
     "metadata": {},
     "output_type": "execute_result"
    }
   ],
   "source": [
    "# Python program to prove that two string variables of same value point same memory location.\n",
    "x = \"Yazeed\"\n",
    "y = \"Yazeed\"\n",
    "id(x) == id(y)"
   ]
  },
  {
   "cell_type": "code",
   "execution_count": null,
   "metadata": {},
   "outputs": [],
   "source": []
  },
  {
   "cell_type": "markdown",
   "metadata": {},
   "source": [
    "55. Write a Python program to prove that two string variables are equals."
   ]
  },
  {
   "cell_type": "code",
   "execution_count": 21,
   "metadata": {
    "scrolled": true
   },
   "outputs": [
    {
     "name": "stdout",
     "output_type": "stream",
     "text": [
      "string variables are equals\n"
     ]
    }
   ],
   "source": [
    "# Python program to prove that two string variables are equals.\n",
    "x = \"Yazeed\"\n",
    "y = \"Yazeed\"\n",
    "if x is y : \n",
    "    print (\"string variables are equals\")\n",
    "else: \n",
    "    print(\" string variables aren't equals\")"
   ]
  },
  {
   "cell_type": "markdown",
   "metadata": {},
   "source": [
    "56. Write a Python program to empty a variable without destroying it. Sample data: n=20, Expected Output : None"
   ]
  },
  {
   "cell_type": "code",
   "execution_count": 38,
   "metadata": {},
   "outputs": [
    {
     "name": "stdout",
     "output_type": "stream",
     "text": [
      "0\n"
     ]
    }
   ],
   "source": [
    "# Python program to empty a variable without destroying it.\n",
    "n = 20\n",
    "print(type(n)())"
   ]
  },
  {
   "cell_type": "markdown",
   "metadata": {},
   "source": [
    "57. Write a Python program to check if lowercase letters exist in a string"
   ]
  },
  {
   "cell_type": "code",
   "execution_count": 39,
   "metadata": {},
   "outputs": [
    {
     "data": {
      "text/plain": [
       "False"
      ]
     },
     "execution_count": 39,
     "metadata": {},
     "output_type": "execute_result"
    }
   ],
   "source": [
    "# Python program to check if lowercase letters exist in a string\n",
    "y = \"YaZeEd\"\n",
    "y.islower()\n"
   ]
  },
  {
   "cell_type": "markdown",
   "metadata": {},
   "source": [
    "58. Write a Python program to add leading zeroes to a string."
   ]
  },
  {
   "cell_type": "code",
   "execution_count": 43,
   "metadata": {},
   "outputs": [
    {
     "name": "stdout",
     "output_type": "stream",
     "text": [
      "000012\n"
     ]
    }
   ],
   "source": [
    "# Python program to add leading zeroes to a string.\n",
    "y = int(12) \n",
    "new_y = str(y).zfill(6)\n",
    "print (new_y)"
   ]
  },
  {
   "cell_type": "markdown",
   "metadata": {},
   "source": [
    "59. Write a Python program to calculate the time runs (difference between start and current time) of a program."
   ]
  },
  {
   "cell_type": "code",
   "execution_count": 57,
   "metadata": {},
   "outputs": [
    {
     "name": "stdout",
     "output_type": "stream",
     "text": [
      "Start_time: 3273.0480245  vs  default_timer: 3273.0480872\n"
     ]
    }
   ],
   "source": [
    "# Python program to calculate the time runs (difference between start and current time) of a program.\n",
    "from timeit import default_timer\n",
    "start = default_timer()\n",
    "y = \"Yazeed\"\n",
    "print(\"Start_time:\",start, \" vs \" ,\"default_timer:\",default_timer())"
   ]
  },
  {
   "cell_type": "markdown",
   "metadata": {},
   "source": [
    "60. Write a Python program to convert an integer to binary keep leading zeros. Sample data: 50, Expected output:00001100,0000001100"
   ]
  },
  {
   "cell_type": "code",
   "execution_count": 65,
   "metadata": {},
   "outputs": [
    {
     "name": "stdout",
     "output_type": "stream",
     "text": [
      "Y in binary: 0b110010 0b110010\n"
     ]
    }
   ],
   "source": [
    "# Python program to convert an integer to binary keep leading zeros.\n",
    "y = 50\n",
    "n_y = str(bin(y)).zfill(8)\n",
    "print(\"Y in binary:\", bin(y), n_y  )"
   ]
  },
  {
   "cell_type": "markdown",
   "metadata": {},
   "source": [
    "61. Write a Python program to input two integers in a single line."
   ]
  },
  {
   "cell_type": "code",
   "execution_count": 2,
   "metadata": {},
   "outputs": [
    {
     "name": "stdout",
     "output_type": "stream",
     "text": [
      "enter tow value: 5 6\n",
      "Num1: 5  ,  Num2: 6\n",
      "\n"
     ]
    }
   ],
   "source": [
    "# Python program to input two integers in a single line.\n",
    "x , y = input(\"enter tow value: \").split()\n",
    "print(\"Num1:\", x , \" , \" , \"Num2:\" , y)\n",
    "print()"
   ]
  },
  {
   "cell_type": "markdown",
   "metadata": {},
   "source": [
    "62. Write a python program to convert decimal to hexadecimal. Sample decimal number: 30, 4. Expected output: 1e, 04"
   ]
  },
  {
   "cell_type": "code",
   "execution_count": 12,
   "metadata": {},
   "outputs": [
    {
     "name": "stdout",
     "output_type": "stream",
     "text": [
      "Enter decimal num: 30\n",
      "30 in decimal = 0x1e hexadecimal\n"
     ]
    }
   ],
   "source": [
    "# python program to convert decimal to hexadecimal. \n",
    "y = int(input(\"Enter decimal num: \"))\n",
    "print( y,\"in decimal\", \"=\" ,hex(y), \"hexadecimal\")"
   ]
  },
  {
   "cell_type": "markdown",
   "metadata": {},
   "source": [
    "63. Write a Python function to find the maximum and minimum numbers from a sequence of numbers. Note: Do not use built-in functions. "
   ]
  },
  {
   "cell_type": "code",
   "execution_count": 42,
   "metadata": {},
   "outputs": [
    {
     "name": "stdout",
     "output_type": "stream",
     "text": [
      "(9, 0)\n"
     ]
    }
   ],
   "source": [
    "# Python function to find the maximum and minimum numbers from a sequence of numbers\n",
    "def max_min(data):\n",
    "  l = data[0]\n",
    "  s = data[0]\n",
    "  for num in data:\n",
    "    if num> l:\n",
    "      l = num\n",
    "    elif num< s:\n",
    "        s = num\n",
    "  return l, s\n",
    "print(max_min([0,5,6,1,9,8,5]))"
   ]
  }
 ],
 "metadata": {
  "kernelspec": {
   "display_name": "Python 3",
   "language": "python",
   "name": "python3"
  },
  "language_info": {
   "codemirror_mode": {
    "name": "ipython",
    "version": 3
   },
   "file_extension": ".py",
   "mimetype": "text/x-python",
   "name": "python",
   "nbconvert_exporter": "python",
   "pygments_lexer": "ipython3",
   "version": "3.7.4"
  },
  "widgets": {
   "application/vnd.jupyter.widget-state+json": {
    "state": {},
    "version_major": 2,
    "version_minor": 0
   }
  }
 },
 "nbformat": 4,
 "nbformat_minor": 2
}
