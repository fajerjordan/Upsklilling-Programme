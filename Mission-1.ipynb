{
 "cells": [
  {
   "cell_type": "markdown",
   "metadata": {},
   "source": [
    "1. Write a Python program to parse a string to Float or Integer. and print the type of them"
   ]
  },
  {
   "cell_type": "code",
   "execution_count": 1,
   "metadata": {},
   "outputs": [
    {
     "name": "stdout",
     "output_type": "stream",
     "text": [
      "123.456\n",
      "123\n"
     ]
    }
   ],
   "source": [
    "# Python program to parse a string to Float or Integer. and print the type of them.\n",
    "\n",
    "y= \"123.456\"\n",
    "print(float(y))\n",
    "print(int(float(y)))"
   ]
  },
  {
   "cell_type": "markdown",
   "metadata": {},
   "source": [
    "2. Write a Python program to print two values without newline or space."
   ]
  },
  {
   "cell_type": "code",
   "execution_count": 2,
   "metadata": {},
   "outputs": [
    {
     "name": "stdout",
     "output_type": "stream",
     "text": [
      "October2019\n"
     ]
    }
   ],
   "source": [
    "# Python program to print two values without newline or space.\n",
    "print(\"October\"+\"2019\")"
   ]
  },
  {
   "cell_type": "markdown",
   "metadata": {},
   "source": [
    "3. Write a program that takes an input from the user and checks if it’s divisible by 3 or not."
   ]
  },
  {
   "cell_type": "code",
   "execution_count": 1,
   "metadata": {},
   "outputs": [
    {
     "name": "stdout",
     "output_type": "stream",
     "text": [
      "Enter the nummer:5\n",
      "False\n"
     ]
    }
   ],
   "source": [
    "# program that takes an input from the user and checks if it’s divisible by 3 or not.\n",
    "\n",
    "x = eval((input(\"Enter the nummer:\")))\n",
    "print (x % 3 == 0)"
   ]
  },
  {
   "cell_type": "markdown",
   "metadata": {},
   "source": [
    "4. Write a program that reads three integers (a, b, and c), computes the following formulas (x1 = (((-b+c**4)/2*a)-(3*((a+b**2))/c)), x2 =(((a+b**3)**2)/(c-a**2)) ) and stores the results in the variables x1, x2 and prints the results of the program."
   ]
  },
  {
   "cell_type": "code",
   "execution_count": null,
   "metadata": {},
   "outputs": [],
   "source": [
    "# program that reads three integers (a, b, and c)\n",
    "# then computes 2 formulas and stores the results in the variables x1, x2 and prints the results of the program\n",
    "a = 1\n",
    "b = 6\n",
    "c = 2\n",
    "x1 = (((-b+c**4)/2*a)-(3*((a+b**2))/c))\n",
    "print ('x1=', x1)\n",
    "x2 =(((a+b**3)**2)/(c-a**2)) \n",
    "print('x2=', x2)"
   ]
  },
  {
   "cell_type": "markdown",
   "metadata": {},
   "source": [
    "5. Write a program that reads two numbers a and b. Print the maximum value of the two numbers."
   ]
  },
  {
   "cell_type": "code",
   "execution_count": null,
   "metadata": {
    "scrolled": true
   },
   "outputs": [],
   "source": [
    "# program that reads two numbers a and b. Print the maximum value of the two numbers.\n",
    "a = 65\n",
    "b = 46\n",
    "max(a,b)"
   ]
  },
  {
   "cell_type": "markdown",
   "metadata": {},
   "source": [
    "6. Write a program that reads three input values. Output the maximum value of the three."
   ]
  },
  {
   "cell_type": "code",
   "execution_count": 28,
   "metadata": {},
   "outputs": [
    {
     "name": "stdout",
     "output_type": "stream",
     "text": [
      "Enter value 1:5\n",
      "Enter value 2:6\n",
      "Enter value 3:1\n"
     ]
    },
    {
     "data": {
      "text/plain": [
       "6"
      ]
     },
     "execution_count": 28,
     "metadata": {},
     "output_type": "execute_result"
    }
   ],
   "source": [
    "# program that reads three input values. Output the maximum value of the three.\n",
    "a= eval(input(\"Enter value 1:\"))\n",
    "b= eval(input(\"Enter value 2:\"))\n",
    "c= eval(input(\"Enter value 3:\"))\n",
    "max(a,b,c)"
   ]
  },
  {
   "cell_type": "markdown",
   "metadata": {},
   "source": [
    "7. Write a program that reads two values a and b. If b is 0, output ”b is 0”. Otherwise output the result of the division of a by b (a/b)."
   ]
  },
  {
   "cell_type": "code",
   "execution_count": 3,
   "metadata": {},
   "outputs": [
    {
     "name": "stdout",
     "output_type": "stream",
     "text": [
      "b is 0\n"
     ]
    }
   ],
   "source": [
    "# program that reads two values a and b. If b is 0, output ”b is 0”, Otherwise output the result of the division of a by b (a/b).\n",
    "a= 99\n",
    "b= 3\n",
    "if b is 0 : print(\"b is 0\")\n",
    "else: print(a/b)"
   ]
  },
  {
   "cell_type": "markdown",
   "metadata": {},
   "source": [
    "8. Write a program to convert days into years, weeks and days."
   ]
  },
  {
   "cell_type": "code",
   "execution_count": 26,
   "metadata": {},
   "outputs": [
    {
     "name": "stdout",
     "output_type": "stream",
     "text": [
      " number_of_days: 400 = 1 years & 5 weeks & 0 days\n"
     ]
    }
   ],
   "source": [
    "#  program to convert days into years, weeks and days.  \n",
    "def find( number_of_days ): \n",
    " year = int(number_of_days / 365)\n",
    " week = int((number_of_days % 365) / 7 ) \n",
    " days = (number_of_days % 365) % 7 \n",
    " print(\" number_of_days:\", number_of_days, \"=\", year, \"years &\", week, \"weeks &\", days,\"days\") \n",
    " number_of_days = 400\n",
    "find(number_of_days) \n",
    "  "
   ]
  },
  {
   "cell_type": "code",
   "execution_count": null,
   "metadata": {},
   "outputs": [],
   "source": []
  },
  {
   "cell_type": "code",
   "execution_count": null,
   "metadata": {},
   "outputs": [],
   "source": []
  },
  {
   "cell_type": "code",
   "execution_count": null,
   "metadata": {},
   "outputs": [],
   "source": []
  },
  {
   "cell_type": "code",
   "execution_count": null,
   "metadata": {},
   "outputs": [],
   "source": []
  },
  {
   "cell_type": "code",
   "execution_count": null,
   "metadata": {},
   "outputs": [],
   "source": []
  },
  {
   "cell_type": "code",
   "execution_count": null,
   "metadata": {},
   "outputs": [],
   "source": []
  },
  {
   "cell_type": "code",
   "execution_count": null,
   "metadata": {},
   "outputs": [],
   "source": []
  },
  {
   "cell_type": "code",
   "execution_count": null,
   "metadata": {},
   "outputs": [],
   "source": []
  },
  {
   "cell_type": "code",
   "execution_count": null,
   "metadata": {},
   "outputs": [],
   "source": []
  },
  {
   "cell_type": "code",
   "execution_count": null,
   "metadata": {},
   "outputs": [],
   "source": []
  },
  {
   "cell_type": "code",
   "execution_count": null,
   "metadata": {},
   "outputs": [],
   "source": []
  },
  {
   "cell_type": "code",
   "execution_count": null,
   "metadata": {},
   "outputs": [],
   "source": []
  },
  {
   "cell_type": "code",
   "execution_count": null,
   "metadata": {},
   "outputs": [],
   "source": []
  },
  {
   "cell_type": "code",
   "execution_count": null,
   "metadata": {},
   "outputs": [],
   "source": []
  },
  {
   "cell_type": "code",
   "execution_count": null,
   "metadata": {},
   "outputs": [],
   "source": []
  }
 ],
 "metadata": {
  "kernelspec": {
   "display_name": "Python 3",
   "language": "python",
   "name": "python3"
  },
  "language_info": {
   "codemirror_mode": {
    "name": "ipython",
    "version": 3
   },
   "file_extension": ".py",
   "mimetype": "text/x-python",
   "name": "python",
   "nbconvert_exporter": "python",
   "pygments_lexer": "ipython3",
   "version": "3.7.4"
  }
 },
 "nbformat": 4,
 "nbformat_minor": 2
}
