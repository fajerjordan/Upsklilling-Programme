{
 "cells": [
  {
   "cell_type": "markdown",
   "metadata": {},
   "source": [
    "1. Write a Python program to parse a string to Float or Integer. and print the type of them."
   ]
  },
  {
   "cell_type": "code",
   "execution_count": 2,
   "metadata": {},
   "outputs": [
    {
     "name": "stdout",
     "output_type": "stream",
     "text": [
      "123.456\n",
      "123\n"
     ]
    }
   ],
   "source": [
    "# Python program to parse a string to Float or Integer. and print the type of them.\n",
    "\n",
    "y= \"123.456\"\n",
    "print(float(y))\n",
    "print(int(float(y)))"
   ]
  },
  {
   "cell_type": "markdown",
   "metadata": {},
   "source": [
    "2. Write a Python program to print two values without newline or space."
   ]
  },
  {
   "cell_type": "code",
   "execution_count": 3,
   "metadata": {},
   "outputs": [
    {
     "name": "stdout",
     "output_type": "stream",
     "text": [
      "October2019\n"
     ]
    }
   ],
   "source": [
    "# Python program to print two values without newline or space.\n",
    "print(\"October\"+\"2019\")"
   ]
  },
  {
   "cell_type": "markdown",
   "metadata": {},
   "source": [
    "3. Write a program that takes an input from the user and checks if it’s divisible by 3 or not."
   ]
  },
  {
   "cell_type": "code",
   "execution_count": 4,
   "metadata": {},
   "outputs": [
    {
     "name": "stdout",
     "output_type": "stream",
     "text": [
      "Enter the nummer:5\n",
      "False\n"
     ]
    }
   ],
   "source": [
    "# program that takes an input from the user and checks if it’s divisible by 3 or not.\n",
    "\n",
    "x = eval((input(\"Enter the nummer:\")))\n",
    "print (x % 3 == 0)"
   ]
  },
  {
   "cell_type": "markdown",
   "metadata": {},
   "source": [
    "4. Write a program that reads three integers (a, b, and c), computes the following formulas (x1 = (((-b+c4)/2a)-(3((a+b2))/c)), x2 =(((a+b3)2)/(c-a**2))) and stores the results in the variables x1, x2 and prints the results of the program."
   ]
  },
  {
   "cell_type": "code",
   "execution_count": 5,
   "metadata": {},
   "outputs": [
    {
     "name": "stdout",
     "output_type": "stream",
     "text": [
      "x1= -50.5\n",
      "x2= 47089.0\n"
     ]
    }
   ],
   "source": [
    "# program that reads three integers (a, b, and c)\n",
    "# then computes 2 formulas and stores the results in the variables x1, x2 and prints the results of the program\n",
    "a = 1\n",
    "b = 6\n",
    "c = 2\n",
    "x1 = (((-b+c**4)/2*a)-(3*((a+b**2))/c))\n",
    "print ('x1=', x1)\n",
    "x2 =(((a+b**3)**2)/(c-a**2)) \n",
    "print('x2=', x2)"
   ]
  },
  {
   "cell_type": "markdown",
   "metadata": {},
   "source": [
    "5. Write a program that reads two numbers a and b. Print the maximum value of the two numbers."
   ]
  },
  {
   "cell_type": "code",
   "execution_count": 6,
   "metadata": {},
   "outputs": [
    {
     "data": {
      "text/plain": [
       "65"
      ]
     },
     "execution_count": 6,
     "metadata": {},
     "output_type": "execute_result"
    }
   ],
   "source": [
    "# program that reads two numbers a and b. Print the maximum value of the two numbers.\n",
    "a = 65\n",
    "b = 46\n",
    "max(a,b)"
   ]
  },
  {
   "cell_type": "markdown",
   "metadata": {},
   "source": [
    "6. Write a program that reads three input values. Output the maximum value of the three."
   ]
  },
  {
   "cell_type": "code",
   "execution_count": 7,
   "metadata": {},
   "outputs": [
    {
     "name": "stdout",
     "output_type": "stream",
     "text": [
      "Enter value 1:6\n",
      "Enter value 2:7\n",
      "Enter value 3:78\n"
     ]
    },
    {
     "data": {
      "text/plain": [
       "78"
      ]
     },
     "execution_count": 7,
     "metadata": {},
     "output_type": "execute_result"
    }
   ],
   "source": [
    "# program that reads three input values. Output the maximum value of the three.\n",
    "a= eval(input(\"Enter value 1:\"))\n",
    "b= eval(input(\"Enter value 2:\"))\n",
    "c= eval(input(\"Enter value 3:\"))\n",
    "max(a,b,c)"
   ]
  },
  {
   "cell_type": "markdown",
   "metadata": {},
   "source": [
    "7. Write a program that reads two values a and b. If b is 0, output ”b is 0”. Otherwise output the result of the division of a by b (a/b)."
   ]
  },
  {
   "cell_type": "code",
   "execution_count": 3,
   "metadata": {},
   "outputs": [
    {
     "name": "stdout",
     "output_type": "stream",
     "text": [
      "33.0\n"
     ]
    }
   ],
   "source": [
    "# program that reads two values a and b. \n",
    "# If b is 0, output ”b is 0”, Otherwise output the result of the division of a by b (a/b).\n",
    "a= 99\n",
    "b= 3\n",
    "if b is 0 : print(\"b is 0\")\n",
    "else: print(a/b)"
   ]
  },
  {
   "cell_type": "markdown",
   "metadata": {},
   "source": [
    "8. Write a program to convert days into years, months and days. SampleInput: 400 SampleOutput: 1 Year 1 Month and 5 Days\n"
   ]
  },
  {
   "cell_type": "code",
   "execution_count": 23,
   "metadata": {},
   "outputs": [
    {
     "name": "stdout",
     "output_type": "stream",
     "text": [
      "Number_of_days is 400 = 1 Year & 1 Month & 0 Days\n"
     ]
    }
   ],
   "source": [
    "# program to convert days into years, weeks and days.  \n",
    "def find(number_of_days): \n",
    " year = int(number_of_days / 365)\n",
    " month = int((number_of_days % 365) / 35 ) \n",
    " days = (number_of_days % 365) % 7 \n",
    " print(\"Number_of_days is\", number_of_days, \"=\", year, \"Year &\", month, \"Month &\", days,\"Days\") \n",
    "number_of_days = 400\n",
    "find(number_of_days)"
   ]
  },
  {
   "cell_type": "markdown",
   "metadata": {},
   "source": [
    "9. Write a program to read temperature in Celsius and convert it into Fahrenheit."
   ]
  },
  {
   "cell_type": "code",
   "execution_count": 2,
   "metadata": {},
   "outputs": [
    {
     "name": "stdout",
     "output_type": "stream",
     "text": [
      "Enter temperature in Cْ :12\n",
      "12.0 Cْ  equal 53.6 Fْ\n"
     ]
    }
   ],
   "source": [
    "# program to read temperature in Celsius and convert it into Fahrenheit.\n",
    "Cْ  = float(input(\"Enter temperature in Cْ :\"))\n",
    "Fْ = (Cْ*1.80)+32 \n",
    "print ( Cْ ,\"Cْ \", \"equal\", Fْ  , \"Fْ\")"
   ]
  },
  {
   "cell_type": "markdown",
   "metadata": {},
   "source": [
    "10. Write a program that reads two float number and stores their values in variable x and y. the program then computes the value (x**2 − y**2)/(x − y) , stores the result in stores the result in a float named z and print the value of z. if the computation division by zero, the program must avoid that by printing an error message and exiting before computing the formula."
   ]
  },
  {
   "cell_type": "code",
   "execution_count": 6,
   "metadata": {},
   "outputs": [
    {
     "name": "stdout",
     "output_type": "stream",
     "text": [
      "Enter First Number:3\n",
      "Enter Second Number:3\n",
      "ZeroDivision Error... try anther numbers\n"
     ]
    }
   ],
   "source": [
    "# program that reads two float number \n",
    "# and computes (x**2 − y**2)/(x − y) and store the result in float named z \n",
    "# : (division by zero) must avoid by printing an error message and exiting before computing\n",
    "\n",
    "x= float(input(\"Enter First Number:\"))\n",
    "y= float(input(\"Enter Second Number:\"))\n",
    "if x-y == 0 :\n",
    " print (\"ZeroDivision Error... try anther numbers\")\n",
    "else:\n",
    " z= float((x**2-y**2)/(x-y))\n",
    " print(\"z=\", z)"
   ]
  },
  {
   "cell_type": "code",
   "execution_count": null,
   "metadata": {},
   "outputs": [],
   "source": []
  },
  {
   "cell_type": "code",
   "execution_count": null,
   "metadata": {},
   "outputs": [],
   "source": []
  }
 ],
 "metadata": {
  "kernelspec": {
   "display_name": "Python 3",
   "language": "python",
   "name": "python3"
  },
  "language_info": {
   "codemirror_mode": {
    "name": "ipython",
    "version": 3
   },
   "file_extension": ".py",
   "mimetype": "text/x-python",
   "name": "python",
   "nbconvert_exporter": "python",
   "pygments_lexer": "ipython3",
   "version": "3.7.4"
  }
 },
 "nbformat": 4,
 "nbformat_minor": 2
}
